{
  "nbformat": 4,
  "nbformat_minor": 0,
  "metadata": {
    "colab": {
      "name": "BaggerOutSideTemple.ipynb",
      "provenance": [],
      "collapsed_sections": [],
      "authorship_tag": "ABX9TyPb5qcPcZv+bgNZuY+a8Zkc",
      "include_colab_link": true
    },
    "kernelspec": {
      "name": "python3",
      "display_name": "Python 3"
    },
    "language_info": {
      "name": "python"
    }
  },
  "cells": [
    {
      "cell_type": "markdown",
      "metadata": {
        "id": "view-in-github",
        "colab_type": "text"
      },
      "source": [
        "<a href=\"https://colab.research.google.com/github/twinkle-1/Python3/blob/main/Compy%2520Interview%2520Questions/BaggerOutsideTemple.ipynb\" target=\"_parent\"><img src=\"https://colab.research.google.com/assets/colab-badge.svg\" alt=\"Open In Colab\"/></a>"
      ]
    },
    {
      "cell_type": "code",
      "execution_count": null,
      "metadata": {
        "id": "i1-DXWHzp8zC"
      },
      "outputs": [],
      "source": [
        "http://leadtrackstudy.blogspot.com/2019/06/outside-temple-there-are-n-n-0-beggars.html"
      ]
    },
    {
      "cell_type": "code",
      "source": [
        "N = 5\n",
        "Donations = [[1, 2, 10], [2, 3, 20], [2, 5, 25]]\n",
        "baggersProfit = [0]*(N+1)\n",
        "for index in Donations:\n",
        "  #X Case(Start Case of Window)\n",
        "  baggersProfit[index[0]-1] = baggersProfit[index[0]-1] + index[2]\n",
        "  #Y Case(End Case of Window)\n",
        "  baggersProfit[index[1]] = baggersProfit[index[1]] - index[2]\n",
        "\n",
        "marginSum = 0\n",
        "for x in range(N):\n",
        "  marginSum += baggersProfit[x]\n",
        "  print(x+1,marginSum)\n",
        "  "
      ],
      "metadata": {
        "colab": {
          "base_uri": "https://localhost:8080/"
        },
        "id": "fTd-lf3dp-Rw",
        "outputId": "b1e28fdd-ac49-4eb2-a1dc-50b0ada1338e"
      },
      "execution_count": 1,
      "outputs": [
        {
          "output_type": "stream",
          "name": "stdout",
          "text": [
            "1 10\n",
            "2 55\n",
            "3 45\n",
            "4 25\n",
            "5 25\n"
          ]
        }
      ]
    },
    {
      "cell_type": "code",
      "source": [
        ""
      ],
      "metadata": {
        "id": "MproTjxPqBAO"
      },
      "execution_count": null,
      "outputs": []
    }
  ]
}